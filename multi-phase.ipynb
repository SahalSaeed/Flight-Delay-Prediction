{
 "cells": [
  {
   "cell_type": "markdown",
   "id": "3ebfe667",
   "metadata": {},
   "source": [
    "# Multi model"
   ]
  },
  {
   "cell_type": "code",
   "execution_count": 14,
   "id": "3a77465e",
   "metadata": {},
   "outputs": [],
   "source": [
    "import numpy as np\n",
    "import pandas as pd\n",
    "import matplotlib.pyplot as plt\n",
    "from sklearn.metrics import f1_score\n",
    "import os\n",
    "import csv\n",
    "from docx import Document\n",
    "import json\n",
    "import seaborn as sns\n",
    "from sklearn.preprocessing import StandardScaler\n",
    "from sklearn.neighbors import KNeighborsClassifier\n",
    "from sklearn.linear_model import LinearRegression\n",
    "from sklearn.ensemble import RandomForestRegressor,GradientBoostingRegressor\n",
    "from sklearn.ensemble import RandomForestClassifier\n",
    "from sklearn.model_selection import train_test_split\n",
    "from sklearn.linear_model import LogisticRegression\n",
    "from sklearn.metrics import precision_score,accuracy_score, precision_recall_curve,f1_score, confusion_matrix, RocCurveDisplay\n",
    "from sklearn.metrics import classification_report"
   ]
  },
  {
   "cell_type": "markdown",
   "id": "b620f966",
   "metadata": {},
   "source": [
    "## Reading training data"
   ]
  },
  {
   "cell_type": "code",
   "execution_count": 41,
   "id": "ba54a405",
   "metadata": {},
   "outputs": [],
   "source": [
    "merged_df=pd.read_csv('Merge_data.csv')"
   ]
  },
  {
   "cell_type": "code",
   "execution_count": 42,
   "id": "b10c6f7e",
   "metadata": {},
   "outputs": [],
   "source": [
    "\n",
    "merged_df['departure.scheduledTime'] = pd.to_datetime(merged_df['departure.scheduledTime'])\n",
    "\n",
    "\n",
    "merged_df['day_of_week'] = merged_df['departure.scheduledTime'].dt.day_name()  # e.g., Monday, Tuesday\n",
    "merged_df['hour_of_day'] = merged_df['departure.scheduledTime'].dt.hour         # e.g., 14, 8\n",
    "merged_df['month_of_year'] = merged_df['departure.scheduledTime'].dt.month_name()  # e.g., December\n"
   ]
  },
  {
   "cell_type": "code",
   "execution_count": 43,
   "id": "a98b3542",
   "metadata": {},
   "outputs": [
    {
     "data": {
      "text/html": [
       "<div>\n",
       "<style scoped>\n",
       "    .dataframe tbody tr th:only-of-type {\n",
       "        vertical-align: middle;\n",
       "    }\n",
       "\n",
       "    .dataframe tbody tr th {\n",
       "        vertical-align: top;\n",
       "    }\n",
       "\n",
       "    .dataframe thead th {\n",
       "        text-align: right;\n",
       "    }\n",
       "</style>\n",
       "<table border=\"1\" class=\"dataframe\">\n",
       "  <thead>\n",
       "    <tr style=\"text-align: right;\">\n",
       "      <th></th>\n",
       "      <th>departure.iataCode</th>\n",
       "      <th>departure.icaoCode</th>\n",
       "      <th>departure.terminal</th>\n",
       "      <th>departure.scheduledTime</th>\n",
       "      <th>departure.estimatedTime</th>\n",
       "      <th>departure.actualTime</th>\n",
       "      <th>departure.estimatedRunway</th>\n",
       "      <th>departure.actualRunway</th>\n",
       "      <th>arrival.iataCode</th>\n",
       "      <th>arrival.icaoCode</th>\n",
       "      <th>...</th>\n",
       "      <th>flight.icaoNumber_uae603</th>\n",
       "      <th>flight.icaoNumber_uae605</th>\n",
       "      <th>flight.icaoNumber_uae607</th>\n",
       "      <th>flight.icaoNumber_uae623</th>\n",
       "      <th>flight.icaoNumber_uae625</th>\n",
       "      <th>flight.icaoNumber_uae8619</th>\n",
       "      <th>flight.icaoNumber_uae8621</th>\n",
       "      <th>flight.icaoNumber_voz6098</th>\n",
       "      <th>flight.icaoNumber_voz6173</th>\n",
       "      <th>flight.icaoNumber_vsv850</th>\n",
       "    </tr>\n",
       "  </thead>\n",
       "  <tbody>\n",
       "    <tr>\n",
       "      <th>0</th>\n",
       "      <td>lhe</td>\n",
       "      <td>opla</td>\n",
       "      <td>m</td>\n",
       "      <td>2023-07-20 20:50:00</td>\n",
       "      <td>2023-07-20t20:00:00.000</td>\n",
       "      <td>2023-07-20 20:15:00</td>\n",
       "      <td>2023-07-20t20:15:00.000</td>\n",
       "      <td>2023-07-20t20:15:00.000</td>\n",
       "      <td>ruh</td>\n",
       "      <td>oerk</td>\n",
       "      <td>...</td>\n",
       "      <td>0</td>\n",
       "      <td>0</td>\n",
       "      <td>0</td>\n",
       "      <td>0</td>\n",
       "      <td>0</td>\n",
       "      <td>0</td>\n",
       "      <td>0</td>\n",
       "      <td>0</td>\n",
       "      <td>0</td>\n",
       "      <td>0</td>\n",
       "    </tr>\n",
       "    <tr>\n",
       "      <th>1</th>\n",
       "      <td>lhe</td>\n",
       "      <td>opla</td>\n",
       "      <td>NaN</td>\n",
       "      <td>2023-07-18 15:05:00</td>\n",
       "      <td>2023-07-18t15:05:00.000</td>\n",
       "      <td>NaN</td>\n",
       "      <td>NaN</td>\n",
       "      <td>NaN</td>\n",
       "      <td>khi</td>\n",
       "      <td>opkc</td>\n",
       "      <td>...</td>\n",
       "      <td>0</td>\n",
       "      <td>0</td>\n",
       "      <td>0</td>\n",
       "      <td>0</td>\n",
       "      <td>0</td>\n",
       "      <td>0</td>\n",
       "      <td>0</td>\n",
       "      <td>0</td>\n",
       "      <td>0</td>\n",
       "      <td>0</td>\n",
       "    </tr>\n",
       "    <tr>\n",
       "      <th>2</th>\n",
       "      <td>lhe</td>\n",
       "      <td>opla</td>\n",
       "      <td>NaN</td>\n",
       "      <td>2023-07-23 09:50:00</td>\n",
       "      <td>NaN</td>\n",
       "      <td>NaN</td>\n",
       "      <td>NaN</td>\n",
       "      <td>NaN</td>\n",
       "      <td>khi</td>\n",
       "      <td>opkc</td>\n",
       "      <td>...</td>\n",
       "      <td>0</td>\n",
       "      <td>0</td>\n",
       "      <td>0</td>\n",
       "      <td>0</td>\n",
       "      <td>0</td>\n",
       "      <td>0</td>\n",
       "      <td>0</td>\n",
       "      <td>0</td>\n",
       "      <td>0</td>\n",
       "      <td>0</td>\n",
       "    </tr>\n",
       "    <tr>\n",
       "      <th>3</th>\n",
       "      <td>lhe</td>\n",
       "      <td>opla</td>\n",
       "      <td>m</td>\n",
       "      <td>2023-07-26 23:30:00</td>\n",
       "      <td>2023-07-26t23:30:00.000</td>\n",
       "      <td>2023-07-26 23:51:00</td>\n",
       "      <td>2023-07-26t23:51:00.000</td>\n",
       "      <td>2023-07-26t23:51:00.000</td>\n",
       "      <td>kwi</td>\n",
       "      <td>okkk</td>\n",
       "      <td>...</td>\n",
       "      <td>0</td>\n",
       "      <td>0</td>\n",
       "      <td>0</td>\n",
       "      <td>0</td>\n",
       "      <td>0</td>\n",
       "      <td>0</td>\n",
       "      <td>0</td>\n",
       "      <td>0</td>\n",
       "      <td>0</td>\n",
       "      <td>0</td>\n",
       "    </tr>\n",
       "    <tr>\n",
       "      <th>4</th>\n",
       "      <td>lhe</td>\n",
       "      <td>opla</td>\n",
       "      <td>m</td>\n",
       "      <td>2023-07-20 11:35:00</td>\n",
       "      <td>2023-07-20t17:15:00.000</td>\n",
       "      <td>NaN</td>\n",
       "      <td>NaN</td>\n",
       "      <td>NaN</td>\n",
       "      <td>dxb</td>\n",
       "      <td>omdb</td>\n",
       "      <td>...</td>\n",
       "      <td>0</td>\n",
       "      <td>0</td>\n",
       "      <td>0</td>\n",
       "      <td>0</td>\n",
       "      <td>0</td>\n",
       "      <td>0</td>\n",
       "      <td>0</td>\n",
       "      <td>0</td>\n",
       "      <td>0</td>\n",
       "      <td>0</td>\n",
       "    </tr>\n",
       "    <tr>\n",
       "      <th>...</th>\n",
       "      <td>...</td>\n",
       "      <td>...</td>\n",
       "      <td>...</td>\n",
       "      <td>...</td>\n",
       "      <td>...</td>\n",
       "      <td>...</td>\n",
       "      <td>...</td>\n",
       "      <td>...</td>\n",
       "      <td>...</td>\n",
       "      <td>...</td>\n",
       "      <td>...</td>\n",
       "      <td>...</td>\n",
       "      <td>...</td>\n",
       "      <td>...</td>\n",
       "      <td>...</td>\n",
       "      <td>...</td>\n",
       "      <td>...</td>\n",
       "      <td>...</td>\n",
       "      <td>...</td>\n",
       "      <td>...</td>\n",
       "      <td>...</td>\n",
       "    </tr>\n",
       "    <tr>\n",
       "      <th>12109</th>\n",
       "      <td>khi</td>\n",
       "      <td>opkc</td>\n",
       "      <td>m</td>\n",
       "      <td>2023-08-02 18:40:00</td>\n",
       "      <td>2023-08-02t18:44:00.000</td>\n",
       "      <td>2023-08-02 18:54:00</td>\n",
       "      <td>2023-08-02t18:54:00.000</td>\n",
       "      <td>2023-08-02t18:54:00.000</td>\n",
       "      <td>auh</td>\n",
       "      <td>omaa</td>\n",
       "      <td>...</td>\n",
       "      <td>0</td>\n",
       "      <td>0</td>\n",
       "      <td>0</td>\n",
       "      <td>0</td>\n",
       "      <td>0</td>\n",
       "      <td>0</td>\n",
       "      <td>0</td>\n",
       "      <td>0</td>\n",
       "      <td>0</td>\n",
       "      <td>0</td>\n",
       "    </tr>\n",
       "    <tr>\n",
       "      <th>12110</th>\n",
       "      <td>khi</td>\n",
       "      <td>opkc</td>\n",
       "      <td>m</td>\n",
       "      <td>2023-08-10 04:00:00</td>\n",
       "      <td>2023-08-10t04:00:00.000</td>\n",
       "      <td>2023-08-10 03:58:00</td>\n",
       "      <td>2023-08-10t03:58:00.000</td>\n",
       "      <td>2023-08-10t03:58:00.000</td>\n",
       "      <td>doh</td>\n",
       "      <td>othh</td>\n",
       "      <td>...</td>\n",
       "      <td>0</td>\n",
       "      <td>0</td>\n",
       "      <td>0</td>\n",
       "      <td>0</td>\n",
       "      <td>0</td>\n",
       "      <td>0</td>\n",
       "      <td>0</td>\n",
       "      <td>0</td>\n",
       "      <td>0</td>\n",
       "      <td>0</td>\n",
       "    </tr>\n",
       "    <tr>\n",
       "      <th>12111</th>\n",
       "      <td>khi</td>\n",
       "      <td>opkc</td>\n",
       "      <td>m</td>\n",
       "      <td>2023-08-01 16:35:00</td>\n",
       "      <td>2023-08-01t16:35:00.000</td>\n",
       "      <td>2023-08-01 17:10:00</td>\n",
       "      <td>2023-08-01t17:10:00.000</td>\n",
       "      <td>2023-08-01t17:10:00.000</td>\n",
       "      <td>dxb</td>\n",
       "      <td>omdb</td>\n",
       "      <td>...</td>\n",
       "      <td>0</td>\n",
       "      <td>0</td>\n",
       "      <td>0</td>\n",
       "      <td>0</td>\n",
       "      <td>0</td>\n",
       "      <td>0</td>\n",
       "      <td>0</td>\n",
       "      <td>0</td>\n",
       "      <td>0</td>\n",
       "      <td>0</td>\n",
       "    </tr>\n",
       "    <tr>\n",
       "      <th>12112</th>\n",
       "      <td>khi</td>\n",
       "      <td>opkc</td>\n",
       "      <td>m</td>\n",
       "      <td>2023-08-12 07:00:00</td>\n",
       "      <td>NaN</td>\n",
       "      <td>NaN</td>\n",
       "      <td>NaN</td>\n",
       "      <td>NaN</td>\n",
       "      <td>isb</td>\n",
       "      <td>opis</td>\n",
       "      <td>...</td>\n",
       "      <td>0</td>\n",
       "      <td>0</td>\n",
       "      <td>0</td>\n",
       "      <td>0</td>\n",
       "      <td>0</td>\n",
       "      <td>0</td>\n",
       "      <td>0</td>\n",
       "      <td>0</td>\n",
       "      <td>0</td>\n",
       "      <td>0</td>\n",
       "    </tr>\n",
       "    <tr>\n",
       "      <th>12113</th>\n",
       "      <td>khi</td>\n",
       "      <td>opkc</td>\n",
       "      <td>m</td>\n",
       "      <td>2023-08-10 17:40:00</td>\n",
       "      <td>2023-08-10t17:34:00.000</td>\n",
       "      <td>2023-08-10 17:44:00</td>\n",
       "      <td>2023-08-10t17:44:00.000</td>\n",
       "      <td>2023-08-10t17:44:00.000</td>\n",
       "      <td>shj</td>\n",
       "      <td>omsj</td>\n",
       "      <td>...</td>\n",
       "      <td>0</td>\n",
       "      <td>0</td>\n",
       "      <td>0</td>\n",
       "      <td>0</td>\n",
       "      <td>0</td>\n",
       "      <td>0</td>\n",
       "      <td>0</td>\n",
       "      <td>0</td>\n",
       "      <td>0</td>\n",
       "      <td>0</td>\n",
       "    </tr>\n",
       "  </tbody>\n",
       "</table>\n",
       "<p>12114 rows × 1407 columns</p>\n",
       "</div>"
      ],
      "text/plain": [
       "      departure.iataCode departure.icaoCode departure.terminal  \\\n",
       "0                    lhe               opla                  m   \n",
       "1                    lhe               opla                NaN   \n",
       "2                    lhe               opla                NaN   \n",
       "3                    lhe               opla                  m   \n",
       "4                    lhe               opla                  m   \n",
       "...                  ...                ...                ...   \n",
       "12109                khi               opkc                  m   \n",
       "12110                khi               opkc                  m   \n",
       "12111                khi               opkc                  m   \n",
       "12112                khi               opkc                  m   \n",
       "12113                khi               opkc                  m   \n",
       "\n",
       "      departure.scheduledTime  departure.estimatedTime departure.actualTime  \\\n",
       "0         2023-07-20 20:50:00  2023-07-20t20:00:00.000  2023-07-20 20:15:00   \n",
       "1         2023-07-18 15:05:00  2023-07-18t15:05:00.000                  NaN   \n",
       "2         2023-07-23 09:50:00                      NaN                  NaN   \n",
       "3         2023-07-26 23:30:00  2023-07-26t23:30:00.000  2023-07-26 23:51:00   \n",
       "4         2023-07-20 11:35:00  2023-07-20t17:15:00.000                  NaN   \n",
       "...                       ...                      ...                  ...   \n",
       "12109     2023-08-02 18:40:00  2023-08-02t18:44:00.000  2023-08-02 18:54:00   \n",
       "12110     2023-08-10 04:00:00  2023-08-10t04:00:00.000  2023-08-10 03:58:00   \n",
       "12111     2023-08-01 16:35:00  2023-08-01t16:35:00.000  2023-08-01 17:10:00   \n",
       "12112     2023-08-12 07:00:00                      NaN                  NaN   \n",
       "12113     2023-08-10 17:40:00  2023-08-10t17:34:00.000  2023-08-10 17:44:00   \n",
       "\n",
       "      departure.estimatedRunway   departure.actualRunway arrival.iataCode  \\\n",
       "0       2023-07-20t20:15:00.000  2023-07-20t20:15:00.000              ruh   \n",
       "1                           NaN                      NaN              khi   \n",
       "2                           NaN                      NaN              khi   \n",
       "3       2023-07-26t23:51:00.000  2023-07-26t23:51:00.000              kwi   \n",
       "4                           NaN                      NaN              dxb   \n",
       "...                         ...                      ...              ...   \n",
       "12109   2023-08-02t18:54:00.000  2023-08-02t18:54:00.000              auh   \n",
       "12110   2023-08-10t03:58:00.000  2023-08-10t03:58:00.000              doh   \n",
       "12111   2023-08-01t17:10:00.000  2023-08-01t17:10:00.000              dxb   \n",
       "12112                       NaN                      NaN              isb   \n",
       "12113   2023-08-10t17:44:00.000  2023-08-10t17:44:00.000              shj   \n",
       "\n",
       "      arrival.icaoCode  ... flight.icaoNumber_uae603 flight.icaoNumber_uae605  \\\n",
       "0                 oerk  ...                        0                        0   \n",
       "1                 opkc  ...                        0                        0   \n",
       "2                 opkc  ...                        0                        0   \n",
       "3                 okkk  ...                        0                        0   \n",
       "4                 omdb  ...                        0                        0   \n",
       "...                ...  ...                      ...                      ...   \n",
       "12109             omaa  ...                        0                        0   \n",
       "12110             othh  ...                        0                        0   \n",
       "12111             omdb  ...                        0                        0   \n",
       "12112             opis  ...                        0                        0   \n",
       "12113             omsj  ...                        0                        0   \n",
       "\n",
       "      flight.icaoNumber_uae607 flight.icaoNumber_uae623  \\\n",
       "0                            0                        0   \n",
       "1                            0                        0   \n",
       "2                            0                        0   \n",
       "3                            0                        0   \n",
       "4                            0                        0   \n",
       "...                        ...                      ...   \n",
       "12109                        0                        0   \n",
       "12110                        0                        0   \n",
       "12111                        0                        0   \n",
       "12112                        0                        0   \n",
       "12113                        0                        0   \n",
       "\n",
       "      flight.icaoNumber_uae625 flight.icaoNumber_uae8619  \\\n",
       "0                            0                         0   \n",
       "1                            0                         0   \n",
       "2                            0                         0   \n",
       "3                            0                         0   \n",
       "4                            0                         0   \n",
       "...                        ...                       ...   \n",
       "12109                        0                         0   \n",
       "12110                        0                         0   \n",
       "12111                        0                         0   \n",
       "12112                        0                         0   \n",
       "12113                        0                         0   \n",
       "\n",
       "      flight.icaoNumber_uae8621  flight.icaoNumber_voz6098  \\\n",
       "0                             0                          0   \n",
       "1                             0                          0   \n",
       "2                             0                          0   \n",
       "3                             0                          0   \n",
       "4                             0                          0   \n",
       "...                         ...                        ...   \n",
       "12109                         0                          0   \n",
       "12110                         0                          0   \n",
       "12111                         0                          0   \n",
       "12112                         0                          0   \n",
       "12113                         0                          0   \n",
       "\n",
       "      flight.icaoNumber_voz6173 flight.icaoNumber_vsv850  \n",
       "0                             0                        0  \n",
       "1                             0                        0  \n",
       "2                             0                        0  \n",
       "3                             0                        0  \n",
       "4                             0                        0  \n",
       "...                         ...                      ...  \n",
       "12109                         0                        0  \n",
       "12110                         0                        0  \n",
       "12111                         0                        0  \n",
       "12112                         0                        0  \n",
       "12113                         0                        0  \n",
       "\n",
       "[12114 rows x 1407 columns]"
      ]
     },
     "execution_count": 43,
     "metadata": {},
     "output_type": "execute_result"
    }
   ],
   "source": [
    "\n",
    "df_encoded = pd.get_dummies(merged_df, columns=['status','type','month_of_year','day_of_week','hour_of_day','airline.name',\n",
    "       'airline.iataCode', 'airline.icaoCode', 'flight.number',\n",
    "       'flight.iataNumber', 'flight.icaoNumber',])\n",
    "df_encoded"
   ]
  },
  {
   "cell_type": "markdown",
   "id": "dd574431",
   "metadata": {},
   "source": [
    "## Normalizing"
   ]
  },
  {
   "cell_type": "code",
   "execution_count": 44,
   "id": "dfceb93b",
   "metadata": {},
   "outputs": [],
   "source": [
    "from sklearn.preprocessing import MinMaxScaler\n",
    "columns_to_normalize=['type_departure', 'month_of_year_April', 'month_of_year_August',\n",
    "       'month_of_year_December', 'month_of_year_February',\n",
    "       'month_of_year_January', 'month_of_year_July', 'month_of_year_June',\n",
    "       'month_of_year_March', 'month_of_year_May', 'day_of_week_Friday',\n",
    "       'day_of_week_Monday', 'day_of_week_Saturday', 'day_of_week_Sunday',\n",
    "       'day_of_week_Thursday', 'day_of_week_Tuesday', 'day_of_week_Wednesday',\n",
    "       'status_cancelled','status_active','Temp Max','Temp Avg', 'Temp Min', 'Dew Point Max', 'Dew Point Avg',\n",
    "       'Dew Point Min', 'Humidity Max', 'Humidity Avg', 'Humidity Min',\n",
    "       'Wind Speed Max', 'Wind Speed Avg', 'Wind Speed Min', 'Pressure Max',\n",
    "       'Pressure Avg', 'Pressure Min']\n",
    "scaler = MinMaxScaler()\n",
    "\n",
    "\n",
    "df_encoded[columns_to_normalize] = scaler.fit_transform(df_encoded[columns_to_normalize])"
   ]
  },
  {
   "cell_type": "code",
   "execution_count": 45,
   "id": "fabec7cc",
   "metadata": {},
   "outputs": [
    {
     "data": {
      "text/plain": [
       "array([0., 1., 2.])"
      ]
     },
     "execution_count": 45,
     "metadata": {},
     "output_type": "execute_result"
    }
   ],
   "source": [
    "from sklearn.preprocessing import StandardScaler\n",
    "for index, i in enumerate(merged_df['delay_in_minutes']):\n",
    "\n",
    "    if i == 0.0:\n",
    "        merged_df.loc[index, 'delay_status'] = 0\n",
    "    elif i<45.0:\n",
    "        merged_df.loc[index, 'delay_status'] = 1\n",
    "    elif i>=45.0 and i<=175.0:\n",
    "        merged_df.loc[index, 'delay_status'] = 2\n",
    "    else:\n",
    "        merged_df.loc[index, 'delay_status'] = 3\n",
    "        \n",
    "from sklearn.model_selection import train_test_split\n",
    "\n",
    "X = df_encoded[['type_departure', 'month_of_year_April', 'month_of_year_August',\n",
    "       'month_of_year_December', 'month_of_year_February',\n",
    "       'month_of_year_January', 'month_of_year_July', 'month_of_year_June',\n",
    "       'month_of_year_March', 'month_of_year_May', 'day_of_week_Friday',\n",
    "       'day_of_week_Monday', 'day_of_week_Saturday', 'day_of_week_Sunday',\n",
    "       'day_of_week_Thursday', 'day_of_week_Tuesday', 'day_of_week_Wednesday',\n",
    "       'status_cancelled','status_active','Temp Max','Temp Avg', 'Temp Min', 'Dew Point Max', 'Dew Point Avg',\n",
    "       'Dew Point Min', 'Humidity Max', 'Humidity Avg', 'Humidity Min',\n",
    "       'Wind Speed Max', 'Wind Speed Avg', 'Wind Speed Min', 'Pressure Max',\n",
    "       'Pressure Avg', 'Pressure Min']]\n",
    "y = merged_df['delay_status']\n",
    "y=y.astype(int)\n",
    "\n",
    "np.unique(merged_df['delay_status'])"
   ]
  },
  {
   "cell_type": "markdown",
   "id": "4c7608cb",
   "metadata": {},
   "source": [
    "# Model training by decision tree "
   ]
  },
  {
   "cell_type": "code",
   "execution_count": 20,
   "id": "9f1a09d2",
   "metadata": {},
   "outputs": [
    {
     "data": {
      "text/html": [
       "<style>#sk-container-id-2 {color: black;background-color: white;}#sk-container-id-2 pre{padding: 0;}#sk-container-id-2 div.sk-toggleable {background-color: white;}#sk-container-id-2 label.sk-toggleable__label {cursor: pointer;display: block;width: 100%;margin-bottom: 0;padding: 0.3em;box-sizing: border-box;text-align: center;}#sk-container-id-2 label.sk-toggleable__label-arrow:before {content: \"▸\";float: left;margin-right: 0.25em;color: #696969;}#sk-container-id-2 label.sk-toggleable__label-arrow:hover:before {color: black;}#sk-container-id-2 div.sk-estimator:hover label.sk-toggleable__label-arrow:before {color: black;}#sk-container-id-2 div.sk-toggleable__content {max-height: 0;max-width: 0;overflow: hidden;text-align: left;background-color: #f0f8ff;}#sk-container-id-2 div.sk-toggleable__content pre {margin: 0.2em;color: black;border-radius: 0.25em;background-color: #f0f8ff;}#sk-container-id-2 input.sk-toggleable__control:checked~div.sk-toggleable__content {max-height: 200px;max-width: 100%;overflow: auto;}#sk-container-id-2 input.sk-toggleable__control:checked~label.sk-toggleable__label-arrow:before {content: \"▾\";}#sk-container-id-2 div.sk-estimator input.sk-toggleable__control:checked~label.sk-toggleable__label {background-color: #d4ebff;}#sk-container-id-2 div.sk-label input.sk-toggleable__control:checked~label.sk-toggleable__label {background-color: #d4ebff;}#sk-container-id-2 input.sk-hidden--visually {border: 0;clip: rect(1px 1px 1px 1px);clip: rect(1px, 1px, 1px, 1px);height: 1px;margin: -1px;overflow: hidden;padding: 0;position: absolute;width: 1px;}#sk-container-id-2 div.sk-estimator {font-family: monospace;background-color: #f0f8ff;border: 1px dotted black;border-radius: 0.25em;box-sizing: border-box;margin-bottom: 0.5em;}#sk-container-id-2 div.sk-estimator:hover {background-color: #d4ebff;}#sk-container-id-2 div.sk-parallel-item::after {content: \"\";width: 100%;border-bottom: 1px solid gray;flex-grow: 1;}#sk-container-id-2 div.sk-label:hover label.sk-toggleable__label {background-color: #d4ebff;}#sk-container-id-2 div.sk-serial::before {content: \"\";position: absolute;border-left: 1px solid gray;box-sizing: border-box;top: 0;bottom: 0;left: 50%;z-index: 0;}#sk-container-id-2 div.sk-serial {display: flex;flex-direction: column;align-items: center;background-color: white;padding-right: 0.2em;padding-left: 0.2em;position: relative;}#sk-container-id-2 div.sk-item {position: relative;z-index: 1;}#sk-container-id-2 div.sk-parallel {display: flex;align-items: stretch;justify-content: center;background-color: white;position: relative;}#sk-container-id-2 div.sk-item::before, #sk-container-id-2 div.sk-parallel-item::before {content: \"\";position: absolute;border-left: 1px solid gray;box-sizing: border-box;top: 0;bottom: 0;left: 50%;z-index: -1;}#sk-container-id-2 div.sk-parallel-item {display: flex;flex-direction: column;z-index: 1;position: relative;background-color: white;}#sk-container-id-2 div.sk-parallel-item:first-child::after {align-self: flex-end;width: 50%;}#sk-container-id-2 div.sk-parallel-item:last-child::after {align-self: flex-start;width: 50%;}#sk-container-id-2 div.sk-parallel-item:only-child::after {width: 0;}#sk-container-id-2 div.sk-dashed-wrapped {border: 1px dashed gray;margin: 0 0.4em 0.5em 0.4em;box-sizing: border-box;padding-bottom: 0.4em;background-color: white;}#sk-container-id-2 div.sk-label label {font-family: monospace;font-weight: bold;display: inline-block;line-height: 1.2em;}#sk-container-id-2 div.sk-label-container {text-align: center;}#sk-container-id-2 div.sk-container {/* jupyter's `normalize.less` sets `[hidden] { display: none; }` but bootstrap.min.css set `[hidden] { display: none !important; }` so we also need the `!important` here to be able to override the default hidden behavior on the sphinx rendered scikit-learn.org. See: https://github.com/scikit-learn/scikit-learn/issues/21755 */display: inline-block !important;position: relative;}#sk-container-id-2 div.sk-text-repr-fallback {display: none;}</style><div id=\"sk-container-id-2\" class=\"sk-top-container\"><div class=\"sk-text-repr-fallback\"><pre>DecisionTreeClassifier(max_depth=5, random_state=42)</pre><b>In a Jupyter environment, please rerun this cell to show the HTML representation or trust the notebook. <br />On GitHub, the HTML representation is unable to render, please try loading this page with nbviewer.org.</b></div><div class=\"sk-container\" hidden><div class=\"sk-item\"><div class=\"sk-estimator sk-toggleable\"><input class=\"sk-toggleable__control sk-hidden--visually\" id=\"sk-estimator-id-2\" type=\"checkbox\" checked><label for=\"sk-estimator-id-2\" class=\"sk-toggleable__label sk-toggleable__label-arrow\">DecisionTreeClassifier</label><div class=\"sk-toggleable__content\"><pre>DecisionTreeClassifier(max_depth=5, random_state=42)</pre></div></div></div></div></div>"
      ],
      "text/plain": [
       "DecisionTreeClassifier(max_depth=5, random_state=42)"
      ]
     },
     "execution_count": 20,
     "metadata": {},
     "output_type": "execute_result"
    }
   ],
   "source": [
    "from sklearn.tree import DecisionTreeClassifier\n",
    "\n",
    "tree_model = DecisionTreeClassifier(max_depth=5, random_state=42)\n",
    "tree_model.fit(X_train, y_train)\n"
   ]
  },
  {
   "cell_type": "markdown",
   "id": "66a48a94",
   "metadata": {},
   "source": [
    "## Predicting by decision tree model"
   ]
  },
  {
   "cell_type": "code",
   "execution_count": 21,
   "id": "ee132e4c",
   "metadata": {},
   "outputs": [
    {
     "name": "stdout",
     "output_type": "stream",
     "text": [
      "Validation Accuracy: 0.8790755262071812\n",
      "Classification Report on Validation Data:\n",
      "               precision    recall  f1-score   support\n",
      "\n",
      "           0       0.00      0.00      0.00       275\n",
      "           1       0.88      1.00      0.94      2130\n",
      "           2       0.00      0.00      0.00        18\n",
      "\n",
      "    accuracy                           0.88      2423\n",
      "   macro avg       0.29      0.33      0.31      2423\n",
      "weighted avg       0.77      0.88      0.82      2423\n",
      "\n",
      "Confusion Matrix:\n",
      " [[   0  275    0]\n",
      " [   0 2130    0]\n",
      " [   0   18    0]]\n"
     ]
    },
    {
     "name": "stderr",
     "output_type": "stream",
     "text": [
      "C:\\ana\\Lib\\site-packages\\sklearn\\metrics\\_classification.py:1344: UndefinedMetricWarning: Precision and F-score are ill-defined and being set to 0.0 in labels with no predicted samples. Use `zero_division` parameter to control this behavior.\n",
      "  _warn_prf(average, modifier, msg_start, len(result))\n",
      "C:\\ana\\Lib\\site-packages\\sklearn\\metrics\\_classification.py:1344: UndefinedMetricWarning: Precision and F-score are ill-defined and being set to 0.0 in labels with no predicted samples. Use `zero_division` parameter to control this behavior.\n",
      "  _warn_prf(average, modifier, msg_start, len(result))\n",
      "C:\\ana\\Lib\\site-packages\\sklearn\\metrics\\_classification.py:1344: UndefinedMetricWarning: Precision and F-score are ill-defined and being set to 0.0 in labels with no predicted samples. Use `zero_division` parameter to control this behavior.\n",
      "  _warn_prf(average, modifier, msg_start, len(result))\n"
     ]
    }
   ],
   "source": [
    "y_valid_pred = tree_model.predict(X_test)\n",
    "print(\"Validation Accuracy:\", accuracy_score(y_test, y_valid_pred))\n",
    "print(\"Classification Report on Validation Data:\\n\", classification_report(y_test, y_valid_pred))\n",
    "print(\"Confusion Matrix:\\n\", confusion_matrix(y_test, y_valid_pred))"
   ]
  },
  {
   "cell_type": "markdown",
   "id": "0fea255e",
   "metadata": {},
   "source": [
    "## Model Training by Random Forest"
   ]
  },
  {
   "cell_type": "code",
   "execution_count": 46,
   "id": "fcbdef20",
   "metadata": {},
   "outputs": [
    {
     "data": {
      "text/html": [
       "<style>#sk-container-id-4 {color: black;background-color: white;}#sk-container-id-4 pre{padding: 0;}#sk-container-id-4 div.sk-toggleable {background-color: white;}#sk-container-id-4 label.sk-toggleable__label {cursor: pointer;display: block;width: 100%;margin-bottom: 0;padding: 0.3em;box-sizing: border-box;text-align: center;}#sk-container-id-4 label.sk-toggleable__label-arrow:before {content: \"▸\";float: left;margin-right: 0.25em;color: #696969;}#sk-container-id-4 label.sk-toggleable__label-arrow:hover:before {color: black;}#sk-container-id-4 div.sk-estimator:hover label.sk-toggleable__label-arrow:before {color: black;}#sk-container-id-4 div.sk-toggleable__content {max-height: 0;max-width: 0;overflow: hidden;text-align: left;background-color: #f0f8ff;}#sk-container-id-4 div.sk-toggleable__content pre {margin: 0.2em;color: black;border-radius: 0.25em;background-color: #f0f8ff;}#sk-container-id-4 input.sk-toggleable__control:checked~div.sk-toggleable__content {max-height: 200px;max-width: 100%;overflow: auto;}#sk-container-id-4 input.sk-toggleable__control:checked~label.sk-toggleable__label-arrow:before {content: \"▾\";}#sk-container-id-4 div.sk-estimator input.sk-toggleable__control:checked~label.sk-toggleable__label {background-color: #d4ebff;}#sk-container-id-4 div.sk-label input.sk-toggleable__control:checked~label.sk-toggleable__label {background-color: #d4ebff;}#sk-container-id-4 input.sk-hidden--visually {border: 0;clip: rect(1px 1px 1px 1px);clip: rect(1px, 1px, 1px, 1px);height: 1px;margin: -1px;overflow: hidden;padding: 0;position: absolute;width: 1px;}#sk-container-id-4 div.sk-estimator {font-family: monospace;background-color: #f0f8ff;border: 1px dotted black;border-radius: 0.25em;box-sizing: border-box;margin-bottom: 0.5em;}#sk-container-id-4 div.sk-estimator:hover {background-color: #d4ebff;}#sk-container-id-4 div.sk-parallel-item::after {content: \"\";width: 100%;border-bottom: 1px solid gray;flex-grow: 1;}#sk-container-id-4 div.sk-label:hover label.sk-toggleable__label {background-color: #d4ebff;}#sk-container-id-4 div.sk-serial::before {content: \"\";position: absolute;border-left: 1px solid gray;box-sizing: border-box;top: 0;bottom: 0;left: 50%;z-index: 0;}#sk-container-id-4 div.sk-serial {display: flex;flex-direction: column;align-items: center;background-color: white;padding-right: 0.2em;padding-left: 0.2em;position: relative;}#sk-container-id-4 div.sk-item {position: relative;z-index: 1;}#sk-container-id-4 div.sk-parallel {display: flex;align-items: stretch;justify-content: center;background-color: white;position: relative;}#sk-container-id-4 div.sk-item::before, #sk-container-id-4 div.sk-parallel-item::before {content: \"\";position: absolute;border-left: 1px solid gray;box-sizing: border-box;top: 0;bottom: 0;left: 50%;z-index: -1;}#sk-container-id-4 div.sk-parallel-item {display: flex;flex-direction: column;z-index: 1;position: relative;background-color: white;}#sk-container-id-4 div.sk-parallel-item:first-child::after {align-self: flex-end;width: 50%;}#sk-container-id-4 div.sk-parallel-item:last-child::after {align-self: flex-start;width: 50%;}#sk-container-id-4 div.sk-parallel-item:only-child::after {width: 0;}#sk-container-id-4 div.sk-dashed-wrapped {border: 1px dashed gray;margin: 0 0.4em 0.5em 0.4em;box-sizing: border-box;padding-bottom: 0.4em;background-color: white;}#sk-container-id-4 div.sk-label label {font-family: monospace;font-weight: bold;display: inline-block;line-height: 1.2em;}#sk-container-id-4 div.sk-label-container {text-align: center;}#sk-container-id-4 div.sk-container {/* jupyter's `normalize.less` sets `[hidden] { display: none; }` but bootstrap.min.css set `[hidden] { display: none !important; }` so we also need the `!important` here to be able to override the default hidden behavior on the sphinx rendered scikit-learn.org. See: https://github.com/scikit-learn/scikit-learn/issues/21755 */display: inline-block !important;position: relative;}#sk-container-id-4 div.sk-text-repr-fallback {display: none;}</style><div id=\"sk-container-id-4\" class=\"sk-top-container\"><div class=\"sk-text-repr-fallback\"><pre>RandomForestClassifier(random_state=42)</pre><b>In a Jupyter environment, please rerun this cell to show the HTML representation or trust the notebook. <br />On GitHub, the HTML representation is unable to render, please try loading this page with nbviewer.org.</b></div><div class=\"sk-container\" hidden><div class=\"sk-item\"><div class=\"sk-estimator sk-toggleable\"><input class=\"sk-toggleable__control sk-hidden--visually\" id=\"sk-estimator-id-4\" type=\"checkbox\" checked><label for=\"sk-estimator-id-4\" class=\"sk-toggleable__label sk-toggleable__label-arrow\">RandomForestClassifier</label><div class=\"sk-toggleable__content\"><pre>RandomForestClassifier(random_state=42)</pre></div></div></div></div></div>"
      ],
      "text/plain": [
       "RandomForestClassifier(random_state=42)"
      ]
     },
     "execution_count": 46,
     "metadata": {},
     "output_type": "execute_result"
    }
   ],
   "source": [
    "X_train, X_test, y_train, y_test = train_test_split(X, y, test_size=0.2, random_state=42)\n",
    "\n",
    "multi_classifier = RandomForestClassifier(random_state=42)\n",
    "multi_classifier.fit(X_train, y_train)"
   ]
  },
  {
   "cell_type": "markdown",
   "id": "2a64b10f",
   "metadata": {},
   "source": [
    "## Predicting by random forest model"
   ]
  },
  {
   "cell_type": "code",
   "execution_count": 47,
   "id": "252e3e5e",
   "metadata": {},
   "outputs": [
    {
     "name": "stdout",
     "output_type": "stream",
     "text": [
      "Validation Accuracy: 0.8778373916632274\n",
      "Classification Report on Validation Data:\n",
      "               precision    recall  f1-score   support\n",
      "\n",
      "           0       0.40      0.02      0.04       275\n",
      "           1       0.88      1.00      0.93      2130\n",
      "           2       0.00      0.00      0.00        18\n",
      "\n",
      "    accuracy                           0.88      2423\n",
      "   macro avg       0.43      0.34      0.33      2423\n",
      "weighted avg       0.82      0.88      0.83      2423\n",
      "\n",
      "Confusion Matrix:\n",
      " [[   6  269    0]\n",
      " [   9 2121    0]\n",
      " [   0   18    0]]\n"
     ]
    },
    {
     "name": "stderr",
     "output_type": "stream",
     "text": [
      "C:\\ana\\Lib\\site-packages\\sklearn\\metrics\\_classification.py:1344: UndefinedMetricWarning: Precision and F-score are ill-defined and being set to 0.0 in labels with no predicted samples. Use `zero_division` parameter to control this behavior.\n",
      "  _warn_prf(average, modifier, msg_start, len(result))\n",
      "C:\\ana\\Lib\\site-packages\\sklearn\\metrics\\_classification.py:1344: UndefinedMetricWarning: Precision and F-score are ill-defined and being set to 0.0 in labels with no predicted samples. Use `zero_division` parameter to control this behavior.\n",
      "  _warn_prf(average, modifier, msg_start, len(result))\n",
      "C:\\ana\\Lib\\site-packages\\sklearn\\metrics\\_classification.py:1344: UndefinedMetricWarning: Precision and F-score are ill-defined and being set to 0.0 in labels with no predicted samples. Use `zero_division` parameter to control this behavior.\n",
      "  _warn_prf(average, modifier, msg_start, len(result))\n"
     ]
    }
   ],
   "source": [
    "y_valid_pred = multi_classifier.predict(X_test)\n",
    "print(\"Validation Accuracy:\", accuracy_score(y_test, y_valid_pred))\n",
    "print(\"Classification Report on Validation Data:\\n\", classification_report(y_test, y_valid_pred))\n",
    "print(\"Confusion Matrix:\\n\", confusion_matrix(y_test, y_valid_pred))"
   ]
  },
  {
   "cell_type": "markdown",
   "id": "d8385e6a",
   "metadata": {},
   "source": [
    "## Model training by GridSearchCV"
   ]
  },
  {
   "cell_type": "code",
   "execution_count": 58,
   "id": "21beb113",
   "metadata": {},
   "outputs": [
    {
     "name": "stdout",
     "output_type": "stream",
     "text": [
      "Best number of neighbors: {'n_neighbors': 11}\n",
      "Best accuracy score: 0.8741102597223576\n"
     ]
    }
   ],
   "source": [
    "from sklearn.model_selection import GridSearchCV\n",
    "\n",
    "\n",
    "param_grid = {\n",
    "    'n_neighbors': range(3, 15)  \n",
    "}\n",
    "\n",
    "\n",
    "grid_search = GridSearchCV(KNeighborsClassifier(), param_grid, cv=5, scoring='accuracy')\n",
    "\n",
    "\n",
    "grid_search.fit(X_train, y_train)\n",
    "\n",
    "\n",
    "print(\"Best number of neighbors:\", grid_search.best_params_)\n",
    "print(\"Best accuracy score:\", grid_search.best_score_)\n"
   ]
  },
  {
   "cell_type": "markdown",
   "id": "6d6e07e8",
   "metadata": {},
   "source": [
    "## Predicting by GridSearchCV Model"
   ]
  },
  {
   "cell_type": "code",
   "execution_count": 59,
   "id": "1634b871",
   "metadata": {},
   "outputs": [
    {
     "name": "stdout",
     "output_type": "stream",
     "text": [
      "Validation Accuracy: 0.8728848534874123\n",
      "Classification Report on Validation Data:\n",
      "               precision    recall  f1-score   support\n",
      "\n",
      "           0       0.33      0.05      0.09       275\n",
      "           1       0.88      0.99      0.93      2130\n",
      "           2       0.00      0.00      0.00        18\n",
      "\n",
      "    accuracy                           0.87      2423\n",
      "   macro avg       0.40      0.35      0.34      2423\n",
      "weighted avg       0.81      0.87      0.83      2423\n",
      "\n",
      "Confusion Matrix:\n",
      " [[  15  260    0]\n",
      " [  30 2100    0]\n",
      " [   1   17    0]]\n"
     ]
    },
    {
     "name": "stderr",
     "output_type": "stream",
     "text": [
      "C:\\ana\\Lib\\site-packages\\sklearn\\metrics\\_classification.py:1344: UndefinedMetricWarning: Precision and F-score are ill-defined and being set to 0.0 in labels with no predicted samples. Use `zero_division` parameter to control this behavior.\n",
      "  _warn_prf(average, modifier, msg_start, len(result))\n",
      "C:\\ana\\Lib\\site-packages\\sklearn\\metrics\\_classification.py:1344: UndefinedMetricWarning: Precision and F-score are ill-defined and being set to 0.0 in labels with no predicted samples. Use `zero_division` parameter to control this behavior.\n",
      "  _warn_prf(average, modifier, msg_start, len(result))\n",
      "C:\\ana\\Lib\\site-packages\\sklearn\\metrics\\_classification.py:1344: UndefinedMetricWarning: Precision and F-score are ill-defined and being set to 0.0 in labels with no predicted samples. Use `zero_division` parameter to control this behavior.\n",
      "  _warn_prf(average, modifier, msg_start, len(result))\n"
     ]
    }
   ],
   "source": [
    "y_valid_pred = grid_search.predict(X_test)\n",
    "print(\"Validation Accuracy:\", accuracy_score(y_test, y_valid_pred))\n",
    "print(\"Classification Report on Validation Data:\\n\", classification_report(y_test, y_valid_pred))\n",
    "print(\"Confusion Matrix:\\n\", confusion_matrix(y_test, y_valid_pred))"
   ]
  },
  {
   "cell_type": "markdown",
   "id": "677dd97f",
   "metadata": {},
   "source": [
    "# Reading test data"
   ]
  },
  {
   "cell_type": "code",
   "execution_count": 60,
   "id": "fb850728",
   "metadata": {},
   "outputs": [],
   "source": [
    "test_df=pd.read_csv('Merge_data_test.csv')"
   ]
  },
  {
   "cell_type": "markdown",
   "id": "22fdb8f6",
   "metadata": {},
   "source": [
    "## Hot Encoding Test data"
   ]
  },
  {
   "cell_type": "code",
   "execution_count": 61,
   "id": "65e01f2f",
   "metadata": {},
   "outputs": [
    {
     "data": {
      "text/plain": [
       "Index(['departure.iataCode', 'departure.icaoCode', 'departure.scheduledTime',\n",
       "       'departure.estimatedRunway', 'departure.actualRunway',\n",
       "       'arrival.iataCode', 'arrival.icaoCode', 'arrival.scheduledTime',\n",
       "       'arrival.estimatedTime', 'departure.terminal',\n",
       "       ...\n",
       "       'flight.icaoNumber_uae613', 'flight.icaoNumber_uae615',\n",
       "       'flight.icaoNumber_uae623', 'flight.icaoNumber_uae625',\n",
       "       'flight.icaoNumber_uae8619', 'flight.icaoNumber_uae8621',\n",
       "       'flight.icaoNumber_voz6098', 'flight.icaoNumber_voz6173',\n",
       "       'flight.icaoNumber_voz6174', 'flight.icaoNumber_vsv850'],\n",
       "      dtype='object', length=1972)"
      ]
     },
     "execution_count": 61,
     "metadata": {},
     "output_type": "execute_result"
    }
   ],
   "source": [
    "\n",
    "df_encoded_test = pd.get_dummies(test_df, columns=['status','type','month_of_year','day_of_week','hour_of_day','airline.name',\n",
    "       'airline.iataCode', 'airline.icaoCode', 'flight.number',\n",
    "       'flight.iataNumber', 'flight.icaoNumber'])\n",
    "df_encoded_test.columns"
   ]
  },
  {
   "cell_type": "code",
   "execution_count": 62,
   "id": "c37ea930",
   "metadata": {},
   "outputs": [
    {
     "data": {
      "text/html": [
       "<div>\n",
       "<style scoped>\n",
       "    .dataframe tbody tr th:only-of-type {\n",
       "        vertical-align: middle;\n",
       "    }\n",
       "\n",
       "    .dataframe tbody tr th {\n",
       "        vertical-align: top;\n",
       "    }\n",
       "\n",
       "    .dataframe thead th {\n",
       "        text-align: right;\n",
       "    }\n",
       "</style>\n",
       "<table border=\"1\" class=\"dataframe\">\n",
       "  <thead>\n",
       "    <tr style=\"text-align: right;\">\n",
       "      <th></th>\n",
       "      <th>departure.scheduledTime</th>\n",
       "      <th>departure.actualRunway</th>\n",
       "      <th>delay_in_minutes</th>\n",
       "    </tr>\n",
       "  </thead>\n",
       "  <tbody>\n",
       "    <tr>\n",
       "      <th>0</th>\n",
       "      <td>2023-07-17 20:35:00</td>\n",
       "      <td>2023-07-17 20:46:00</td>\n",
       "      <td>11.0</td>\n",
       "    </tr>\n",
       "    <tr>\n",
       "      <th>1</th>\n",
       "      <td>2023-07-27 08:00:00</td>\n",
       "      <td>NaT</td>\n",
       "      <td>NaN</td>\n",
       "    </tr>\n",
       "    <tr>\n",
       "      <th>2</th>\n",
       "      <td>2023-07-27 08:00:00</td>\n",
       "      <td>NaT</td>\n",
       "      <td>NaN</td>\n",
       "    </tr>\n",
       "    <tr>\n",
       "      <th>3</th>\n",
       "      <td>2023-07-28 16:45:00</td>\n",
       "      <td>NaT</td>\n",
       "      <td>NaN</td>\n",
       "    </tr>\n",
       "    <tr>\n",
       "      <th>4</th>\n",
       "      <td>2023-07-19 04:15:00</td>\n",
       "      <td>2023-07-19 04:18:00</td>\n",
       "      <td>3.0</td>\n",
       "    </tr>\n",
       "    <tr>\n",
       "      <th>...</th>\n",
       "      <td>...</td>\n",
       "      <td>...</td>\n",
       "      <td>...</td>\n",
       "    </tr>\n",
       "    <tr>\n",
       "      <th>14905</th>\n",
       "      <td>2023-11-23 23:15:00</td>\n",
       "      <td>2023-11-23 23:27:00</td>\n",
       "      <td>12.0</td>\n",
       "    </tr>\n",
       "    <tr>\n",
       "      <th>14906</th>\n",
       "      <td>2023-11-25 18:45:00</td>\n",
       "      <td>2023-11-25 19:05:00</td>\n",
       "      <td>20.0</td>\n",
       "    </tr>\n",
       "    <tr>\n",
       "      <th>14907</th>\n",
       "      <td>2023-11-25 02:55:00</td>\n",
       "      <td>2023-11-25 03:07:00</td>\n",
       "      <td>12.0</td>\n",
       "    </tr>\n",
       "    <tr>\n",
       "      <th>14908</th>\n",
       "      <td>2023-11-27 08:35:00</td>\n",
       "      <td>NaT</td>\n",
       "      <td>NaN</td>\n",
       "    </tr>\n",
       "    <tr>\n",
       "      <th>14909</th>\n",
       "      <td>2023-11-26 01:45:00</td>\n",
       "      <td>NaT</td>\n",
       "      <td>NaN</td>\n",
       "    </tr>\n",
       "  </tbody>\n",
       "</table>\n",
       "<p>14910 rows × 3 columns</p>\n",
       "</div>"
      ],
      "text/plain": [
       "      departure.scheduledTime departure.actualRunway  delay_in_minutes\n",
       "0         2023-07-17 20:35:00    2023-07-17 20:46:00              11.0\n",
       "1         2023-07-27 08:00:00                    NaT               NaN\n",
       "2         2023-07-27 08:00:00                    NaT               NaN\n",
       "3         2023-07-28 16:45:00                    NaT               NaN\n",
       "4         2023-07-19 04:15:00    2023-07-19 04:18:00               3.0\n",
       "...                       ...                    ...               ...\n",
       "14905     2023-11-23 23:15:00    2023-11-23 23:27:00              12.0\n",
       "14906     2023-11-25 18:45:00    2023-11-25 19:05:00              20.0\n",
       "14907     2023-11-25 02:55:00    2023-11-25 03:07:00              12.0\n",
       "14908     2023-11-27 08:35:00                    NaT               NaN\n",
       "14909     2023-11-26 01:45:00                    NaT               NaN\n",
       "\n",
       "[14910 rows x 3 columns]"
      ]
     },
     "execution_count": 62,
     "metadata": {},
     "output_type": "execute_result"
    }
   ],
   "source": [
    "\n",
    "test_df['departure.actualRunway'] = pd.to_datetime(test_df['departure.actualRunway'])\n",
    "test_df['departure.scheduledTime'] = pd.to_datetime(test_df['departure.scheduledTime'])\n",
    "\n",
    "\n",
    "test_df['delay'] = test_df['departure.actualRunway'] - test_df['departure.scheduledTime']\n",
    "\n",
    "test_df['delay_in_minutes'] = test_df['delay'].dt.total_seconds() / 60\n",
    "\n",
    "test_df[['departure.scheduledTime', 'departure.actualRunway', 'delay_in_minutes']]\n"
   ]
  },
  {
   "cell_type": "markdown",
   "id": "589bf73c",
   "metadata": {},
   "source": [
    "## Predicting test data using decision tree"
   ]
  },
  {
   "cell_type": "code",
   "execution_count": 25,
   "id": "45e7fb22",
   "metadata": {},
   "outputs": [],
   "source": [
    "\n",
    "test_X = df_encoded_test[['type_departure', 'month_of_year_April', 'month_of_year_August',\n",
    "       'month_of_year_December', 'month_of_year_February',\n",
    "       'month_of_year_January', 'month_of_year_July', 'month_of_year_June',\n",
    "       'month_of_year_March', 'month_of_year_May', 'day_of_week_Friday',\n",
    "       'day_of_week_Monday', 'day_of_week_Saturday', 'day_of_week_Sunday',\n",
    "       'day_of_week_Thursday', 'day_of_week_Tuesday', 'day_of_week_Wednesday',\n",
    "       'status_cancelled','status_active','Temp Max','Temp Avg', 'Temp Min', 'Dew Point Max', 'Dew Point Avg',\n",
    "       'Dew Point Min', 'Humidity Max', 'Humidity Avg', 'Humidity Min',\n",
    "       'Wind Speed Max', 'Wind Speed Avg', 'Wind Speed Min', 'Pressure Max',\n",
    "       'Pressure Avg', 'Pressure Min']]\n",
    "\n",
    "# sahal=selector.transform(test_X)\n",
    "# sahal=pca.transform(test_X)\n",
    "\n",
    "\n",
    "test_pred = tree_model.predict(test_X)\n"
   ]
  },
  {
   "cell_type": "code",
   "execution_count": 26,
   "id": "ff1db574",
   "metadata": {},
   "outputs": [
    {
     "data": {
      "text/plain": [
       "array([1])"
      ]
     },
     "execution_count": 26,
     "metadata": {},
     "output_type": "execute_result"
    }
   ],
   "source": [
    "np.unique(test_pred)"
   ]
  },
  {
   "cell_type": "code",
   "execution_count": 27,
   "id": "5790b223",
   "metadata": {},
   "outputs": [],
   "source": [
    "label_mapping = {\n",
    "    0: \"No Delay\",\n",
    "    1: \"Short Delay\",\n",
    "    2: \"Moderate Delay\",\n",
    "    3: \"Long Delay\"\n",
    "}\n",
    "\n",
    "\n",
    "test_pred_mapped = [label_mapping[pred] for pred in test_pred]"
   ]
  },
  {
   "cell_type": "code",
   "execution_count": 28,
   "id": "b2062d4f",
   "metadata": {},
   "outputs": [
    {
     "data": {
      "text/plain": [
       "array(['Short Delay'], dtype='<U11')"
      ]
     },
     "execution_count": 28,
     "metadata": {},
     "output_type": "execute_result"
    }
   ],
   "source": [
    "np.unique((test_pred_mapped))"
   ]
  },
  {
   "cell_type": "code",
   "execution_count": 29,
   "id": "270f18eb",
   "metadata": {},
   "outputs": [],
   "source": [
    "submission_df = pd.DataFrame({\n",
    "    'ID': range(1, len(test_pred_mapped) + 1),  \n",
    "    'Delay': test_pred_mapped  \n",
    "})\n",
    "sahal=submission_df[:12914]"
   ]
  },
  {
   "cell_type": "code",
   "execution_count": 30,
   "id": "6ad60af2",
   "metadata": {},
   "outputs": [
    {
     "name": "stdout",
     "output_type": "stream",
     "text": [
      "Submission file created: submission_multi_decisiontree.csv\n"
     ]
    }
   ],
   "source": [
    "sahal.to_csv(\"submission_multi_decisiontree.csv\", index=False)\n",
    "print(\"Submission file created: submission_multi_decisiontree.csv\")"
   ]
  },
  {
   "cell_type": "code",
   "execution_count": 31,
   "id": "340f83cb",
   "metadata": {},
   "outputs": [
    {
     "data": {
      "text/plain": [
       "Short Delay    12914\n",
       "Name: Delay, dtype: int64"
      ]
     },
     "execution_count": 31,
     "metadata": {},
     "output_type": "execute_result"
    }
   ],
   "source": [
    "(sahal['Delay'].value_counts())"
   ]
  },
  {
   "cell_type": "markdown",
   "id": "729468f3",
   "metadata": {},
   "source": [
    "## Predicting test data using Random forest"
   ]
  },
  {
   "cell_type": "code",
   "execution_count": 51,
   "id": "ec05d57b",
   "metadata": {},
   "outputs": [],
   "source": [
    "\n",
    "test_X = df_encoded_test[['type_departure', 'month_of_year_April', 'month_of_year_August',\n",
    "       'month_of_year_December', 'month_of_year_February',\n",
    "       'month_of_year_January', 'month_of_year_July', 'month_of_year_June',\n",
    "       'month_of_year_March', 'month_of_year_May', 'day_of_week_Friday',\n",
    "       'day_of_week_Monday', 'day_of_week_Saturday', 'day_of_week_Sunday',\n",
    "       'day_of_week_Thursday', 'day_of_week_Tuesday', 'day_of_week_Wednesday',\n",
    "       'status_cancelled','status_active','Temp Max','Temp Avg', 'Temp Min', 'Dew Point Max', 'Dew Point Avg',\n",
    "       'Dew Point Min', 'Humidity Max', 'Humidity Avg', 'Humidity Min',\n",
    "       'Wind Speed Max', 'Wind Speed Avg', 'Wind Speed Min', 'Pressure Max',\n",
    "       'Pressure Avg', 'Pressure Min']]\n",
    "\n",
    "# sahal=selector.transform(test_X)\n",
    "# sahal=pca.transform(test_X)\n",
    "\n",
    "\n",
    "test_pred = multi_classifier.predict(test_X)\n"
   ]
  },
  {
   "cell_type": "code",
   "execution_count": 52,
   "id": "f0c7aac1",
   "metadata": {},
   "outputs": [
    {
     "data": {
      "text/plain": [
       "array([1])"
      ]
     },
     "execution_count": 52,
     "metadata": {},
     "output_type": "execute_result"
    }
   ],
   "source": [
    "np.unique(test_pred)"
   ]
  },
  {
   "cell_type": "code",
   "execution_count": 53,
   "id": "882d51ce",
   "metadata": {},
   "outputs": [],
   "source": [
    "label_mapping = {\n",
    "    0: \"No Delay\",\n",
    "    1: \"Short Delay\",\n",
    "    2: \"Moderate Delay\",\n",
    "    3: \"Long Delay\"\n",
    "}\n",
    "\n",
    "\n",
    "test_pred_mapped = [label_mapping[pred] for pred in test_pred]"
   ]
  },
  {
   "cell_type": "code",
   "execution_count": 54,
   "id": "37bef37a",
   "metadata": {},
   "outputs": [
    {
     "data": {
      "text/plain": [
       "array(['Short Delay'], dtype='<U11')"
      ]
     },
     "execution_count": 54,
     "metadata": {},
     "output_type": "execute_result"
    }
   ],
   "source": [
    "np.unique((test_pred_mapped))"
   ]
  },
  {
   "cell_type": "code",
   "execution_count": 55,
   "id": "d80a0470",
   "metadata": {},
   "outputs": [],
   "source": [
    "submission_df = pd.DataFrame({\n",
    "    'ID': range(1, len(test_pred_mapped) + 1),  \n",
    "    'Delay': test_pred_mapped  \n",
    "})\n",
    "sahal=submission_df[:12914]"
   ]
  },
  {
   "cell_type": "code",
   "execution_count": 56,
   "id": "986fd8c1",
   "metadata": {},
   "outputs": [
    {
     "name": "stdout",
     "output_type": "stream",
     "text": [
      "Submission file created: submission_multi_randomforest.csv\n"
     ]
    }
   ],
   "source": [
    "sahal.to_csv(\"submission_multi_randomforest.csv\", index=False)\n",
    "print(\"Submission file created: submission_multi_randomforest.csv\")"
   ]
  },
  {
   "cell_type": "code",
   "execution_count": 57,
   "id": "fcc5358d",
   "metadata": {},
   "outputs": [
    {
     "data": {
      "text/plain": [
       "Short Delay    12914\n",
       "Name: Delay, dtype: int64"
      ]
     },
     "execution_count": 57,
     "metadata": {},
     "output_type": "execute_result"
    }
   ],
   "source": [
    "(sahal['Delay'].value_counts())"
   ]
  },
  {
   "cell_type": "markdown",
   "id": "f784ab18",
   "metadata": {},
   "source": [
    "## Prediciting test Data by GridSearchCV"
   ]
  },
  {
   "cell_type": "code",
   "execution_count": 63,
   "id": "6f3d5bda",
   "metadata": {},
   "outputs": [],
   "source": [
    "\n",
    "test_X = df_encoded_test[['type_departure', 'month_of_year_April', 'month_of_year_August',\n",
    "       'month_of_year_December', 'month_of_year_February',\n",
    "       'month_of_year_January', 'month_of_year_July', 'month_of_year_June',\n",
    "       'month_of_year_March', 'month_of_year_May', 'day_of_week_Friday',\n",
    "       'day_of_week_Monday', 'day_of_week_Saturday', 'day_of_week_Sunday',\n",
    "       'day_of_week_Thursday', 'day_of_week_Tuesday', 'day_of_week_Wednesday',\n",
    "       'status_cancelled','status_active','Temp Max','Temp Avg', 'Temp Min', 'Dew Point Max', 'Dew Point Avg',\n",
    "       'Dew Point Min', 'Humidity Max', 'Humidity Avg', 'Humidity Min',\n",
    "       'Wind Speed Max', 'Wind Speed Avg', 'Wind Speed Min', 'Pressure Max',\n",
    "       'Pressure Avg', 'Pressure Min']]\n",
    "\n",
    "# sahal=selector.transform(test_X)\n",
    "# sahal=pca.transform(test_X)\n",
    "\n",
    "\n",
    "test_pred = grid_search.predict(test_X)\n"
   ]
  },
  {
   "cell_type": "code",
   "execution_count": 64,
   "id": "def6f6d5",
   "metadata": {},
   "outputs": [
    {
     "data": {
      "text/plain": [
       "array([0, 1])"
      ]
     },
     "execution_count": 64,
     "metadata": {},
     "output_type": "execute_result"
    }
   ],
   "source": [
    "np.unique(test_pred)"
   ]
  },
  {
   "cell_type": "code",
   "execution_count": 65,
   "id": "6a7662db",
   "metadata": {},
   "outputs": [],
   "source": [
    "label_mapping = {\n",
    "    0: \"No Delay\",\n",
    "    1: \"Short Delay\",\n",
    "    2: \"Moderate Delay\",\n",
    "    3: \"Long Delay\"\n",
    "}\n",
    "\n",
    "\n",
    "test_pred_mapped = [label_mapping[pred] for pred in test_pred]"
   ]
  },
  {
   "cell_type": "code",
   "execution_count": 66,
   "id": "f794d9be",
   "metadata": {},
   "outputs": [
    {
     "data": {
      "text/plain": [
       "array(['No Delay', 'Short Delay'], dtype='<U11')"
      ]
     },
     "execution_count": 66,
     "metadata": {},
     "output_type": "execute_result"
    }
   ],
   "source": [
    "np.unique((test_pred_mapped))"
   ]
  },
  {
   "cell_type": "code",
   "execution_count": 67,
   "id": "1e6c0d17",
   "metadata": {},
   "outputs": [],
   "source": [
    "submission_df = pd.DataFrame({\n",
    "    'ID': range(1, len(test_pred_mapped) + 1),  \n",
    "    'Delay': test_pred_mapped  \n",
    "})\n",
    "sahal=submission_df[:12914]"
   ]
  },
  {
   "cell_type": "code",
   "execution_count": 68,
   "id": "648da0d0",
   "metadata": {},
   "outputs": [
    {
     "name": "stdout",
     "output_type": "stream",
     "text": [
      "Submission file created: submission_multi_gridsearch.csv\n"
     ]
    }
   ],
   "source": [
    "sahal.to_csv(\"submission_multi_gridsearch.csv\", index=False)\n",
    "print(\"Submission file created: submission_multi_gridsearch.csv\")"
   ]
  },
  {
   "cell_type": "code",
   "execution_count": 69,
   "id": "a1556eda",
   "metadata": {},
   "outputs": [
    {
     "data": {
      "text/plain": [
       "Short Delay    12789\n",
       "No Delay         125\n",
       "Name: Delay, dtype: int64"
      ]
     },
     "execution_count": 69,
     "metadata": {},
     "output_type": "execute_result"
    }
   ],
   "source": [
    "(sahal['Delay'].value_counts())"
   ]
  },
  {
   "cell_type": "code",
   "execution_count": null,
   "id": "19fc1e2c",
   "metadata": {},
   "outputs": [],
   "source": []
  }
 ],
 "metadata": {
  "kernelspec": {
   "display_name": "Python 3 (ipykernel)",
   "language": "python",
   "name": "python3"
  },
  "language_info": {
   "codemirror_mode": {
    "name": "ipython",
    "version": 3
   },
   "file_extension": ".py",
   "mimetype": "text/x-python",
   "name": "python",
   "nbconvert_exporter": "python",
   "pygments_lexer": "ipython3",
   "version": "3.11.4"
  }
 },
 "nbformat": 4,
 "nbformat_minor": 5
}
